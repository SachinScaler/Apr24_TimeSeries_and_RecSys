{
  "nbformat": 4,
  "nbformat_minor": 0,
  "metadata": {
    "colab": {
      "provenance": [],
      "authorship_tag": "ABX9TyNfe9OahsvsyZLG3ixl3Pmr",
      "include_colab_link": true
    },
    "kernelspec": {
      "name": "python3",
      "display_name": "Python 3"
    },
    "language_info": {
      "name": "python"
    }
  },
  "cells": [
    {
      "cell_type": "markdown",
      "metadata": {
        "id": "view-in-github",
        "colab_type": "text"
      },
      "source": [
        "<a href=\"https://colab.research.google.com/github/SachinScaler/Apr24_TimeSeries_and_RecSys/blob/main/ML_Recommender_Systems_2%7CLecture.ipynb\" target=\"_parent\"><img src=\"https://colab.research.google.com/assets/colab-badge.svg\" alt=\"Open In Colab\"/></a>"
      ]
    },
    {
      "cell_type": "code",
      "execution_count": null,
      "metadata": {
        "id": "K66S8zRNcQ1a"
      },
      "outputs": [],
      "source": [
        "import numpy as np\n",
        "\n",
        "a=np.array([0,1,1,1,0])"
      ]
    },
    {
      "cell_type": "markdown",
      "source": [
        "Question which Vector is Most Similar to VectorA\n",
        "```\n",
        "b=np.array([0,1,1,1,1])\n",
        "c=np.array([1,0,0,1,0])\n",
        "d=np.array([1,0,0,0,1])\n",
        "```"
      ],
      "metadata": {
        "id": "t9VHnXuKdyoT"
      }
    },
    {
      "cell_type": "code",
      "source": [
        "b=np.array([0,1,1,1,1])\n",
        "c=np.array([1,0,0,1,0])\n",
        "d=np.array([1,0,0,0,1])"
      ],
      "metadata": {
        "id": "ifd3WORTd8WJ"
      },
      "execution_count": null,
      "outputs": []
    },
    {
      "cell_type": "code",
      "source": [
        "def get_cos_sim(vec1,vec2):\n",
        "    norm1 = np.linalg.norm(vec1)\n",
        "    norm2 = np.linalg.norm(vec2)\n",
        "    return np.dot(vec1,vec2)/(norm1*norm2)\n",
        "\n",
        "get_cos_sim(a,d)"
      ],
      "metadata": {
        "colab": {
          "base_uri": "https://localhost:8080/"
        },
        "id": "F1hPZw9QctU6",
        "outputId": "03d354fa-f945-46fd-8435-01379ca39a30"
      },
      "execution_count": null,
      "outputs": [
        {
          "output_type": "execute_result",
          "data": {
            "text/plain": [
              "0.0"
            ]
          },
          "metadata": {},
          "execution_count": 20
        }
      ]
    },
    {
      "cell_type": "code",
      "source": [
        "for name,vec in zip((\"a\",\"b\",\"c\",\"d\"), (a,b,c,d)):\n",
        "    sim_score = get_cos_sim(a,vec)\n",
        "    print(f\"a -> {name}: Score {sim_score}\")"
      ],
      "metadata": {
        "colab": {
          "base_uri": "https://localhost:8080/"
        },
        "id": "Dl_n4vcXRCoJ",
        "outputId": "57676480-d9ef-4119-8d4d-639456b83abe"
      },
      "execution_count": null,
      "outputs": [
        {
          "output_type": "stream",
          "name": "stdout",
          "text": [
            "a -> a: Score 1.0000000000000002\n",
            "a -> b: Score 0.8660254037844387\n",
            "a -> c: Score 0.40824829046386296\n",
            "a -> d: Score 0.0\n"
          ]
        }
      ]
    },
    {
      "cell_type": "code",
      "source": [
        "def get_euc_dis(vec1,vec2):\n",
        "    return np.sum(np.square(vec1-vec2))\n",
        "\n",
        "get_euc_dis(a,d)"
      ],
      "metadata": {
        "colab": {
          "base_uri": "https://localhost:8080/"
        },
        "id": "9SeHXn34emWs",
        "outputId": "0c9d9d4f-5fa2-4d7c-d584-b4bdabd86c69"
      },
      "execution_count": null,
      "outputs": [
        {
          "output_type": "execute_result",
          "data": {
            "text/plain": [
              "5"
            ]
          },
          "metadata": {},
          "execution_count": 25
        }
      ]
    },
    {
      "cell_type": "code",
      "source": [
        "for name,vec in zip((\"a\",\"b\",\"c\",\"d\"), (a,b,c,d)):\n",
        "    sim_score = get_euc_dis(a,vec)\n",
        "    print(f\"a -> {name}: Score {sim_score}\")"
      ],
      "metadata": {
        "colab": {
          "base_uri": "https://localhost:8080/"
        },
        "id": "1cZrbTmXR1hk",
        "outputId": "65d73288-605d-4a89-da5b-89889077dea9"
      },
      "execution_count": null,
      "outputs": [
        {
          "output_type": "stream",
          "name": "stdout",
          "text": [
            "a -> a: Score 0\n",
            "a -> b: Score 1\n",
            "a -> c: Score 3\n",
            "a -> d: Score 5\n"
          ]
        }
      ]
    },
    {
      "cell_type": "markdown",
      "source": [
        "## **Euclidean distance vs Cosine Similarity**\n",
        "The choice between Euclidean distance and cosine similarity for calculating similarity depends on your specific data and what aspect of similarity you want to capture:\n",
        "\n",
        "**Euclidean Distance:**\n",
        "\n",
        "* **Preferred for:** When the magnitude (length) of the vectors is important. It reflects the actual distance between points in a multidimensional space, like physical distance between locations.\n",
        "* **Suitable for:**\n",
        "    * Comparing items with different scales. (e.g., product prices)\n",
        "    * When the origin (zero vector) has significant meaning in your data.\n",
        "\n",
        "**Cosine Similarity:**\n",
        "\n",
        "* **Preferred for:** When the direction of the vectors is more important than their magnitude. It focuses on how closely aligned the vectors are, regardless of their lengths.\n",
        "* **Suitable for:**\n",
        "    * Comparing items with potentially varying scales but similar underlying structure. (e.g., document similarity)\n",
        "    * When the data is centered around the origin (zero vector) or the origin holds no particular meaning.\n",
        "\n",
        "Here's a table summarizing the key differences:\n",
        "\n",
        "| Feature                 | Euclidean Distance | Cosine Similarity |\n",
        "|-------------------------|--------------------|--------------------|\n",
        "| Focus                   | Magnitude (length) | Direction          |\n",
        "| Interpretation          | Actual distance     | Similarity in angle |\n",
        "| Origin importance       | Can be significant  | Not significant     |\n",
        "| Magnitude difference    | Considers difference | Ignores difference   |\n",
        "| Range    | (0,inf)| (-1 , 1) |\n",
        "\n",
        "\n",
        "\n",
        "**Example:**\n",
        "\n",
        "Imagine comparing two user profiles for product recommendations.\n",
        "\n",
        "* **Euclidean distance:** Useful if you want to recommend products closer in price range to the user's past purchases.\n",
        "* **Cosine similarity:** Useful if you want to recommend products based on similar browsing patterns or interests, even if the items themselves have different price points.\n",
        "\n",
        "Ultimately, the best choice depends on your specific application and what aspect of similarity you want to emphasize.\n"
      ],
      "metadata": {
        "id": "MKjFnhDleY3H"
      }
    },
    {
      "cell_type": "markdown",
      "source": [
        "HW: Calculate Simalarity Matrix for Vectors a,b,c,d"
      ],
      "metadata": {
        "id": "GQvOlNBiSOc1"
      }
    },
    {
      "cell_type": "code",
      "source": [],
      "metadata": {
        "id": "rcTCOcd6SKhk"
      },
      "execution_count": null,
      "outputs": []
    },
    {
      "cell_type": "code",
      "source": [],
      "metadata": {
        "id": "aJkm2TwadCuW"
      },
      "execution_count": null,
      "outputs": []
    }
  ]
}